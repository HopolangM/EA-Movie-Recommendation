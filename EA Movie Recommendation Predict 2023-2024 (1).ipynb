{
 "cells": [
  {
   "cell_type": "code",
   "execution_count": 2,
   "id": "8fa94f7c",
   "metadata": {},
   "outputs": [],
   "source": [
    "import pandas as pd\n",
    "import matplotlib.pyplot as plt\n",
    "import seaborn as sns\n",
    "\n",
    "# Define file paths\n",
    "train_path = \"C:/Users/hopol/Downloads/ea-movie-recommendation-predict-2023-2024/train.csv\"\n",
    "test_path = \"C:/Users/hopol/Downloads/ea-movie-recommendation-predict-2023-2024/test.csv\"\n",
    "sample_submission_path = \"C:/Users/hopol/Downloads/ea-movie-recommendation-predict-2023-2024/sample_submission.csv\"\n",
    "tags_path = \"C:/Users/hopol/Downloads/ea-movie-recommendation-predict-2023-2024/tags.csv\"\n",
    "genome_scores_path = \"C:/Users/hopol/Downloads/ea-movie-recommendation-predict-2023-2024/genome_scores.csv\"\n",
    "genome_tags_path = \"C:/Users/hopol/Downloads/ea-movie-recommendation-predict-2023-2024/genome_tags.csv\"\n",
    "imdb_data_path = \"C:/Users/hopol/Downloads/ea-movie-recommendation-predict-2023-2024/imdb_data.csv\"\n",
    "links_path = \"C:/Users/hopol/Downloads/ea-movie-recommendation-predict-2023-2024/links.csv\"\n",
    "movies_path = \"C:/Users/hopol/Downloads/ea-movie-recommendation-predict-2023-2024/movies.csv\""
   ]
  },
  {
   "cell_type": "code",
   "execution_count": 6,
   "id": "075b8a75",
   "metadata": {},
   "outputs": [],
   "source": [
    "# Load datasets into Pandas DataFrames\n",
    "train = pd.read_csv(train_path)\n",
    "test = pd.read_csv(test_path)\n",
    "sample_submission = pd.read_csv(sample_submission_path)\n",
    "tags = pd.read_csv(tags_path)\n",
    "genome_scores = pd.read_csv(genome_scores_path)\n",
    "genome_tags = pd.read_csv(genome_tags_path)\n",
    "imdb_data = pd.read_csv(imdb_data_path)\n",
    "links = pd.read_csv(links_path)\n",
    "movies = pd.read_csv(movies_path)"
   ]
  },
  {
   "cell_type": "code",
   "execution_count": 7,
   "id": "9c25b53a",
   "metadata": {},
   "outputs": [
    {
     "name": "stdout",
     "output_type": "stream",
     "text": [
      "Train Data:\n",
      "   userId  movieId  rating   timestamp\n",
      "0    5163    57669     4.0  1518349992\n",
      "1  106343        5     4.5  1206238739\n",
      "2  146790     5459     5.0  1076215539\n",
      "3  106362    32296     2.0  1423042565\n",
      "4    9041      366     3.0   833375837\n"
     ]
    }
   ],
   "source": [
    "# Display basic information about the datasets\n",
    "print(\"Train Data:\")\n",
    "print(train.head())"
   ]
  },
  {
   "cell_type": "code",
   "execution_count": 8,
   "id": "fb43c327",
   "metadata": {},
   "outputs": [
    {
     "name": "stdout",
     "output_type": "stream",
     "text": [
      "\n",
      "Test Data:\n",
      "   userId  movieId\n",
      "0       1     2011\n",
      "1       1     4144\n",
      "2       1     5767\n",
      "3       1     6711\n",
      "4       1     7318\n"
     ]
    }
   ],
   "source": [
    "print(\"\\nTest Data:\")\n",
    "print(test.head())"
   ]
  },
  {
   "cell_type": "code",
   "execution_count": 9,
   "id": "eb86306a",
   "metadata": {},
   "outputs": [
    {
     "name": "stdout",
     "output_type": "stream",
     "text": [
      "\n",
      "Sample Submission Data:\n",
      "       Id  rating\n",
      "0  1_2011     1.0\n",
      "1  1_4144     1.0\n",
      "2  1_5767     1.0\n",
      "3  1_6711     1.0\n",
      "4  1_7318     1.0\n"
     ]
    }
   ],
   "source": [
    "print(\"\\nSample Submission Data:\")\n",
    "print(sample_submission.head())\n"
   ]
  },
  {
   "cell_type": "code",
   "execution_count": 10,
   "id": "4bb9e5c4",
   "metadata": {},
   "outputs": [
    {
     "name": "stdout",
     "output_type": "stream",
     "text": [
      "\n",
      "Tags Data:\n",
      "   userId  movieId               tag   timestamp\n",
      "0       3      260           classic  1439472355\n",
      "1       3      260            sci-fi  1439472256\n",
      "2       4     1732       dark comedy  1573943598\n",
      "3       4     1732    great dialogue  1573943604\n",
      "4       4     7569  so bad it's good  1573943455\n"
     ]
    }
   ],
   "source": [
    "print(\"\\nTags Data:\")\n",
    "print(tags.head())"
   ]
  },
  {
   "cell_type": "code",
   "execution_count": 11,
   "id": "f167c18e",
   "metadata": {},
   "outputs": [
    {
     "name": "stdout",
     "output_type": "stream",
     "text": [
      "\n",
      "Genome Scores Data:\n",
      "   movieId  tagId  relevance\n",
      "0        1      1    0.02875\n",
      "1        1      2    0.02375\n",
      "2        1      3    0.06250\n",
      "3        1      4    0.07575\n",
      "4        1      5    0.14075\n"
     ]
    }
   ],
   "source": [
    "print(\"\\nGenome Scores Data:\")\n",
    "print(genome_scores.head())"
   ]
  },
  {
   "cell_type": "code",
   "execution_count": 12,
   "id": "8a1fd7e3",
   "metadata": {},
   "outputs": [
    {
     "name": "stdout",
     "output_type": "stream",
     "text": [
      "\n",
      "Genome Tags Data:\n",
      "   tagId           tag\n",
      "0      1           007\n",
      "1      2  007 (series)\n",
      "2      3  18th century\n",
      "3      4         1920s\n",
      "4      5         1930s\n"
     ]
    }
   ],
   "source": [
    "print(\"\\nGenome Tags Data:\")\n",
    "print(genome_tags.head())"
   ]
  },
  {
   "cell_type": "code",
   "execution_count": 13,
   "id": "ab06dd13",
   "metadata": {},
   "outputs": [
    {
     "name": "stdout",
     "output_type": "stream",
     "text": [
      "\n",
      "IMDb Data:\n",
      "   movieId                                         title_cast  \\\n",
      "0        1  Tom Hanks|Tim Allen|Don Rickles|Jim Varney|Wal...   \n",
      "1        2  Robin Williams|Jonathan Hyde|Kirsten Dunst|Bra...   \n",
      "2        3  Walter Matthau|Jack Lemmon|Sophia Loren|Ann-Ma...   \n",
      "3        4  Whitney Houston|Angela Bassett|Loretta Devine|...   \n",
      "4        5  Steve Martin|Diane Keaton|Martin Short|Kimberl...   \n",
      "\n",
      "              director  runtime       budget  \\\n",
      "0        John Lasseter     81.0  $30,000,000   \n",
      "1   Jonathan Hensleigh    104.0  $65,000,000   \n",
      "2  Mark Steven Johnson    101.0  $25,000,000   \n",
      "3       Terry McMillan    124.0  $16,000,000   \n",
      "4       Albert Hackett    106.0  $30,000,000   \n",
      "\n",
      "                                       plot_keywords  \n",
      "0                   toy|rivalry|cowboy|cgi animation  \n",
      "1                   board game|adventurer|fight|game  \n",
      "2                         boat|lake|neighbor|rivalry  \n",
      "3  black american|husband wife relationship|betra...  \n",
      "4                    fatherhood|doberman|dog|mansion  \n"
     ]
    }
   ],
   "source": [
    "print(\"\\nIMDb Data:\")\n",
    "print(imdb_data.head())\n"
   ]
  },
  {
   "cell_type": "code",
   "execution_count": 14,
   "id": "a375a853",
   "metadata": {},
   "outputs": [
    {
     "name": "stdout",
     "output_type": "stream",
     "text": [
      "\n",
      "Links Data:\n",
      "   movieId  imdbId   tmdbId\n",
      "0        1  114709    862.0\n",
      "1        2  113497   8844.0\n",
      "2        3  113228  15602.0\n",
      "3        4  114885  31357.0\n",
      "4        5  113041  11862.0\n"
     ]
    }
   ],
   "source": [
    "print(\"\\nLinks Data:\")\n",
    "print(links.head())"
   ]
  },
  {
   "cell_type": "code",
   "execution_count": 15,
   "id": "b96e5139",
   "metadata": {},
   "outputs": [
    {
     "name": "stdout",
     "output_type": "stream",
     "text": [
      "\n",
      "Movies Data:\n",
      "   movieId                               title  \\\n",
      "0        1                    Toy Story (1995)   \n",
      "1        2                      Jumanji (1995)   \n",
      "2        3             Grumpier Old Men (1995)   \n",
      "3        4            Waiting to Exhale (1995)   \n",
      "4        5  Father of the Bride Part II (1995)   \n",
      "\n",
      "                                        genres  \n",
      "0  Adventure|Animation|Children|Comedy|Fantasy  \n",
      "1                   Adventure|Children|Fantasy  \n",
      "2                               Comedy|Romance  \n",
      "3                         Comedy|Drama|Romance  \n",
      "4                                       Comedy  \n"
     ]
    }
   ],
   "source": [
    "print(\"\\nMovies Data:\")\n",
    "print(movies.head())"
   ]
  },
  {
   "cell_type": "code",
   "execution_count": 16,
   "id": "fcb261de",
   "metadata": {},
   "outputs": [
    {
     "name": "stderr",
     "output_type": "stream",
     "text": [
      "C:\\Users\\hopol\\anaconda3\\Lib\\site-packages\\seaborn\\_oldcore.py:1498: FutureWarning: is_categorical_dtype is deprecated and will be removed in a future version. Use isinstance(dtype, CategoricalDtype) instead\n",
      "  if pd.api.types.is_categorical_dtype(vector):\n",
      "C:\\Users\\hopol\\anaconda3\\Lib\\site-packages\\seaborn\\_oldcore.py:1498: FutureWarning: is_categorical_dtype is deprecated and will be removed in a future version. Use isinstance(dtype, CategoricalDtype) instead\n",
      "  if pd.api.types.is_categorical_dtype(vector):\n",
      "C:\\Users\\hopol\\anaconda3\\Lib\\site-packages\\seaborn\\_oldcore.py:1498: FutureWarning: is_categorical_dtype is deprecated and will be removed in a future version. Use isinstance(dtype, CategoricalDtype) instead\n",
      "  if pd.api.types.is_categorical_dtype(vector):\n"
     ]
    },
    {
     "data": {
      "image/png": "[encoded data removed]",
      "text/plain": [
       "<Figure size 640x480 with 1 Axes>"
      ]
     },
     "metadata": {},
     "output_type": "display_data"
    }
   ],
   "source": [
    "# Visualize rating distribution\n",
    "sns.countplot(x='rating', data=train)\n",
    "plt.title('Distribution of Ratings in Train Data')\n",
    "plt.show()"
   ]
  },
  {
   "cell_type": "code",
   "execution_count": 17,
   "id": "b0c33e43",
   "metadata": {},
   "outputs": [
    {
     "data": {
      "image/png": "[encoded data removed]",
      "text/plain": [
       "<Figure size 1000x600 with 1 Axes>"
      ]
     },
     "metadata": {},
     "output_type": "display_data"
    }
   ],
   "source": [
    "# Visualize tag frequencies\n",
    "tag_counts = tags['tag'].value_counts().head(10)\n",
    "tag_counts.plot(kind='bar', figsize=(10, 6))\n",
    "plt.title('Top 10 Tag Frequencies')\n",
    "plt.xlabel('Tag')\n",
    "plt.ylabel('Frequency')\n",
    "plt.show()"
   ]
  },
  {
   "cell_type": "code",
   "execution_count": 18,
   "id": "96c8f455",
   "metadata": {},
   "outputs": [
    {
     "data": {
      "image/png": "[encoded data removed]",
      "text/plain": [
       "<Figure size 640x480 with 1 Axes>"
      ]
     },
     "metadata": {},
     "output_type": "display_data"
    }
   ],
   "source": [
    "# Visualize relevance distribution\n",
    "plt.hist(genome_scores['relevance'], bins=20)\n",
    "plt.title('Distribution of Relevance Scores in Genome Scores Data')\n",
    "plt.xlabel('Relevance')\n",
    "plt.ylabel('Frequency')\n",
    "plt.show()"
   ]
  },
  {
   "cell_type": "code",
   "execution_count": 19,
   "id": "984ea4a2",
   "metadata": {},
   "outputs": [
    {
     "data": {
      "image/png": "[encoded data removed]",
      "text/plain": [
       "<Figure size 1200x600 with 1 Axes>"
      ]
     },
     "metadata": {},
     "output_type": "display_data"
    }
   ],
   "source": [
    "# Visualize genre distribution\n",
    "genres = movies['genres'].str.split('|', expand=True).stack()\n",
    "genres.value_counts().plot(kind='bar', figsize=(12, 6))\n",
    "plt.title('Distribution of Genres in Movies Data')\n",
    "plt.xlabel('Genre')\n",
    "plt.ylabel('Frequency')\n",
    "plt.show()"
   ]
  },
  {
   "cell_type": "markdown",
   "id": "d7e836dc",
   "metadata": {},
   "source": [
    "## EDA\n",
    "\n",
    "* Explore Additional Train Data Information:"
   ]
  },
  {
   "cell_type": "code",
   "execution_count": 20,
   "id": "db67493e",
   "metadata": {},
   "outputs": [
    {
     "name": "stdout",
     "output_type": "stream",
     "text": [
      "             userId       movieId        rating     timestamp\n",
      "count  1.000004e+07  1.000004e+07  1.000004e+07  1.000004e+07\n",
      "mean   8.119909e+04  2.138911e+04  3.533395e+00  1.215677e+09\n",
      "std    4.679359e+04  3.919578e+04  1.061124e+00  2.268921e+08\n",
      "min    1.000000e+00  1.000000e+00  5.000000e-01  7.896520e+08\n",
      "25%    4.051000e+04  1.197000e+03  3.000000e+00  1.011742e+09\n",
      "50%    8.091400e+04  2.947000e+03  3.500000e+00  1.199019e+09\n",
      "75%    1.215790e+05  8.630000e+03  4.000000e+00  1.447242e+09\n",
      "max    1.625410e+05  2.091710e+05  5.000000e+00  1.574328e+09\n"
     ]
    },
    {
     "data": {
      "image/png": "[encoded data removed]",
      "text/plain": [
       "<Figure size 640x480 with 1 Axes>"
      ]
     },
     "metadata": {},
     "output_type": "display_data"
    }
   ],
   "source": [
    "# Display summary statistics of numerical features in train data\n",
    "print(train.describe())\n",
    "\n",
    "# Visualize the distribution of ratings for each user\n",
    "user_rating_counts = train.groupby('userId')['rating'].count()\n",
    "plt.hist(user_rating_counts, bins=50, edgecolor='black')\n",
    "plt.title('Distribution of Ratings Count per User')\n",
    "plt.xlabel('Number of Ratings')\n",
    "plt.ylabel('Frequency')\n",
    "plt.show()"
   ]
  },
  {
   "cell_type": "markdown",
   "id": "96344763",
   "metadata": {},
   "source": [
    "## Explore IMDb Data:"
   ]
  },
  {
   "cell_type": "code",
   "execution_count": 21,
   "id": "8d7463ea",
   "metadata": {},
   "outputs": [
    {
     "data": {
      "text/html": [
       "<div>\n",
       "<style scoped>\n",
       "    .dataframe tbody tr th:only-of-type {\n",
       "        vertical-align: middle;\n",
       "    }\n",
       "\n",
       "    .dataframe tbody tr th {\n",
       "        vertical-align: top;\n",
       "    }\n",
       "\n",
       "    .dataframe thead th {\n",
       "        text-align: right;\n",
       "    }\n",
       "</style>\n",
       "<table border=\"1\" class=\"dataframe\">\n",
       "  <thead>\n",
       "    <tr style=\"text-align: right;\">\n",
       "      <th></th>\n",
       "      <th>movieId</th>\n",
       "      <th>title_cast</th>\n",
       "      <th>director</th>\n",
       "      <th>runtime</th>\n",
       "      <th>budget</th>\n",
       "      <th>plot_keywords</th>\n",
       "    </tr>\n",
       "  </thead>\n",
       "  <tbody>\n",
       "    <tr>\n",
       "      <th>0</th>\n",
       "      <td>1</td>\n",
       "      <td>Tom Hanks|Tim Allen|Don Rickles|Jim Varney|Wal...</td>\n",
       "      <td>John Lasseter</td>\n",
       "      <td>81.0</td>\n",
       "      <td>$30,000,000</td>\n",
       "      <td>toy|rivalry|cowboy|cgi animation</td>\n",
       "    </tr>\n",
       "  </tbody>\n",
       "</table>\n",
       "</div>"
      ],
      "text/plain": [
       "   movieId                                         title_cast       director  \\\n",
       "0        1  Tom Hanks|Tim Allen|Don Rickles|Jim Varney|Wal...  John Lasseter   \n",
       "\n",
       "   runtime       budget                     plot_keywords  \n",
       "0     81.0  $30,000,000  toy|rivalry|cowboy|cgi animation  "
      ]
     },
     "execution_count": 21,
     "metadata": {},
     "output_type": "execute_result"
    }
   ],
   "source": [
    "# Display IMDb metadata for a specific movie\n",
    "movie_id_to_explore = 1\n",
    "imdb_data[imdb_data['movieId'] == movie_id_to_explore]"
   ]
  },
  {
   "cell_type": "markdown",
   "id": "241fcde1",
   "metadata": {},
   "source": [
    "## Explore Links Data:"
   ]
  },
  {
   "cell_type": "code",
   "execution_count": 22,
   "id": "72f5edf6",
   "metadata": {},
   "outputs": [
    {
     "name": "stdout",
     "output_type": "stream",
     "text": [
      "   movieId  imdbId   tmdbId\n",
      "0        1  114709    862.0\n",
      "1        2  113497   8844.0\n",
      "2        3  113228  15602.0\n",
      "3        4  114885  31357.0\n",
      "4        5  113041  11862.0\n",
      "movieId      0\n",
      "imdbId       0\n",
      "tmdbId     107\n",
      "dtype: int64\n"
     ]
    }
   ],
   "source": [
    "# Display links data\n",
    "print(links.head())\n",
    "\n",
    "# Check for missing values in links data\n",
    "print(links.isnull().sum())"
   ]
  },
  {
   "cell_type": "markdown",
   "id": "fdf78b3d",
   "metadata": {},
   "source": [
    "## Explore Genome Tags Data:"
   ]
  },
  {
   "cell_type": "code",
   "execution_count": 23,
   "id": "087f569c",
   "metadata": {},
   "outputs": [
    {
     "name": "stdout",
     "output_type": "stream",
     "text": [
      "   tagId           tag\n",
      "0      1           007\n",
      "1      2  007 (series)\n",
      "2      3  18th century\n",
      "3      4         1920s\n",
      "4      5         1930s\n"
     ]
    },
    {
     "data": {
      "image/png": "[encoded data removed]",
      "text/plain": [
       "<Figure size 640x480 with 1 Axes>"
      ]
     },
     "metadata": {},
     "output_type": "display_data"
    }
   ],
   "source": [
    "# Display genome tags data\n",
    "print(genome_tags.head())\n",
    "\n",
    "# Display the distribution of tag frequencies\n",
    "tag_counts = genome_tags.groupby('tagId')['tag'].count()\n",
    "tag_counts.plot(kind='hist', bins=30, edgecolor='black')\n",
    "plt.title('Distribution of Tag Frequencies')\n",
    "plt.xlabel('Number of Movies per Tag')\n",
    "plt.ylabel('Frequency')\n",
    "plt.show()"
   ]
  },
  {
   "cell_type": "markdown",
   "id": "2ba5f993",
   "metadata": {},
   "source": [
    "## Explore Genome Scores Data:"
   ]
  },
  {
   "cell_type": "code",
   "execution_count": 24,
   "id": "f2b4cd83",
   "metadata": {},
   "outputs": [
    {
     "name": "stdout",
     "output_type": "stream",
     "text": [
      "   movieId  tagId  relevance\n",
      "0        1      1    0.02875\n",
      "1        1      2    0.02375\n",
      "2        1      3    0.06250\n",
      "3        1      4    0.07575\n",
      "4        1      5    0.14075\n"
     ]
    },
    {
     "data": {
      "image/png": "[encoded data removed]",
      "text/plain": [
       "<Figure size 640x480 with 1 Axes>"
      ]
     },
     "metadata": {},
     "output_type": "display_data"
    }
   ],
   "source": [
    "# Display genome scores data\n",
    "print(genome_scores.head())\n",
    "\n",
    "# Visualize relevance scores distribution for a specific movie\n",
    "movie_id_to_visualize = 1\n",
    "movie_relevance = genome_scores[genome_scores['movieId'] == movie_id_to_visualize]['relevance']\n",
    "plt.hist(movie_relevance, bins=20, edgecolor='black')\n",
    "plt.title('Distribution of Relevance Scores for a Movie')\n",
    "plt.xlabel('Relevance')\n",
    "plt.ylabel('Frequency')\n",
    "plt.show()"
   ]
  },
  {
   "cell_type": "markdown",
   "id": "c67af47f",
   "metadata": {},
   "source": [
    "## Checking and Handling Missing Values in Train Data:"
   ]
  },
  {
   "cell_type": "code",
   "execution_count": 25,
   "id": "b47a6c87",
   "metadata": {},
   "outputs": [
    {
     "name": "stdout",
     "output_type": "stream",
     "text": [
      "Missing values in Train Data:\n",
      "userId       0\n",
      "movieId      0\n",
      "rating       0\n",
      "timestamp    0\n",
      "dtype: int64\n"
     ]
    }
   ],
   "source": [
    "# Check for missing values in the train dataset\n",
    "print(\"Missing values in Train Data:\")\n",
    "print(train.isnull().sum())\n",
    "\n",
    "# Handle missing values (example: impute with mean for numerical columns)\n",
    "train['rating'].fillna(train['rating'].mean(), inplace=True)"
   ]
  },
  {
   "cell_type": "markdown",
   "id": "bd261210",
   "metadata": {},
   "source": [
    "## Checking and Handling Missing Values in Test Data:\n"
   ]
  },
  {
   "cell_type": "code",
   "execution_count": 27,
   "id": "ab1c5862",
   "metadata": {},
   "outputs": [
    {
     "name": "stdout",
     "output_type": "stream",
     "text": [
      "Missing values in Test Data:\n",
      "userId     0\n",
      "movieId    0\n",
      "dtype: int64\n"
     ]
    }
   ],
   "source": [
    "# Check for missing values in the test dataset\n",
    "print(\"Missing values in Test Data:\")\n",
    "print(test.isnull().sum())\n",
    "\n",
    "# Handle missing values (example: impute with mean for numerical columns)\n",
    "# Note: Handle missing values based on the distribution in the training data\n",
    "for column in test.columns:\n",
    "    if test[column].isnull().any():\n",
    "        test[column].fillna(train[column].mean(), inplace=True)\n"
   ]
  },
  {
   "cell_type": "markdown",
   "id": "19e72af9",
   "metadata": {},
   "source": [
    "## Checking and Handling Missing Values in Tags Data:"
   ]
  },
  {
   "cell_type": "code",
   "execution_count": 28,
   "id": "fade2c09",
   "metadata": {},
   "outputs": [
    {
     "name": "stdout",
     "output_type": "stream",
     "text": [
      "Missing values in Tags Data:\n",
      "userId        0\n",
      "movieId       0\n",
      "tag          16\n",
      "timestamp     0\n",
      "dtype: int64\n"
     ]
    }
   ],
   "source": [
    "# Check for missing values in the tags dataset\n",
    "print(\"Missing values in Tags Data:\")\n",
    "print(tags.isnull().sum())\n",
    "\n",
    "# Handle missing values (example: drop rows with missing values)\n",
    "tags.dropna(inplace=True)\n"
   ]
  },
  {
   "cell_type": "markdown",
   "id": "e86b1c3c",
   "metadata": {},
   "source": [
    "## Checking and Handling Missing Values in Genome Scores Data:"
   ]
  },
  {
   "cell_type": "code",
   "execution_count": 29,
   "id": "6edd7f90",
   "metadata": {},
   "outputs": [
    {
     "name": "stdout",
     "output_type": "stream",
     "text": [
      "Missing values in Genome Scores Data:\n",
      "movieId      0\n",
      "tagId        0\n",
      "relevance    0\n",
      "dtype: int64\n"
     ]
    }
   ],
   "source": [
    "# Check for missing values in the genome scores dataset\n",
    "print(\"Missing values in Genome Scores Data:\")\n",
    "print(genome_scores.isnull().sum())\n",
    "\n",
    "# Handle missing values (example: impute with mean for numerical columns)\n",
    "genome_scores['relevance'].fillna(genome_scores['relevance'].mean(), inplace=True)\n"
   ]
  },
  {
   "cell_type": "markdown",
   "id": "9a74f5dc",
   "metadata": {},
   "source": [
    "## Checking and Handling Missing Values in Other Datasets:"
   ]
  },
  {
   "cell_type": "code",
   "execution_count": 30,
   "id": "e2327cf5",
   "metadata": {},
   "outputs": [
    {
     "name": "stdout",
     "output_type": "stream",
     "text": [
      "Missing values in IMDb Data:\n",
      "movieId              0\n",
      "title_cast       10068\n",
      "director          9874\n",
      "runtime          12089\n",
      "budget           19372\n",
      "plot_keywords    11078\n",
      "dtype: int64\n",
      "Missing values in Links Data:\n",
      "movieId      0\n",
      "imdbId       0\n",
      "tmdbId     107\n",
      "dtype: int64\n",
      "Missing values in Movies Data:\n",
      "movieId    0\n",
      "title      0\n",
      "genres     0\n",
      "dtype: int64\n"
     ]
    }
   ],
   "source": [
    "# Check for missing values in IMDb Data\n",
    "print(\"Missing values in IMDb Data:\")\n",
    "print(imdb_data.isnull().sum())\n",
    "\n",
    "# Handle missing values (example: drop rows with missing values)\n",
    "imdb_data.dropna(inplace=True)\n",
    "\n",
    "# Check for missing values in Links Data\n",
    "print(\"Missing values in Links Data:\")\n",
    "print(links.isnull().sum())\n",
    "\n",
    "# Handle missing values (example: drop rows with missing values)\n",
    "links.dropna(inplace=True)\n",
    "\n",
    "# Check for missing values in Movies Data\n",
    "print(\"Missing values in Movies Data:\")\n",
    "print(movies.isnull().sum())\n",
    "\n",
    "# Handle missing values (example: impute with mode for categorical columns)\n",
    "movies['genres'].fillna(movies['genres'].mode()[0], inplace=True)\n"
   ]
  },
  {
   "cell_type": "markdown",
   "id": "281b192d",
   "metadata": {},
   "source": [
    "## Data Engineering \n",
    "\n",
    "* Genre-Based Features"
   ]
  },
  {
   "cell_type": "code",
   "execution_count": 31,
   "id": "649bc934",
   "metadata": {},
   "outputs": [],
   "source": [
    "import pandas as pd\n",
    "\n",
    "# Load the movies dataset\n",
    "movies_path = \"C:/Users/hopol/Downloads/ea-movie-recommendation-predict-2023-2024/movies.csv\"\n",
    "movies = pd.read_csv(movies_path)"
   ]
  },
  {
   "cell_type": "code",
   "execution_count": 32,
   "id": "f319a3c2",
   "metadata": {},
   "outputs": [
    {
     "name": "stdout",
     "output_type": "stream",
     "text": [
      "Movies Data:\n",
      "   movieId                               title  \\\n",
      "0        1                    Toy Story (1995)   \n",
      "1        2                      Jumanji (1995)   \n",
      "2        3             Grumpier Old Men (1995)   \n",
      "3        4            Waiting to Exhale (1995)   \n",
      "4        5  Father of the Bride Part II (1995)   \n",
      "\n",
      "                                        genres  \n",
      "0  Adventure|Animation|Children|Comedy|Fantasy  \n",
      "1                   Adventure|Children|Fantasy  \n",
      "2                               Comedy|Romance  \n",
      "3                         Comedy|Drama|Romance  \n",
      "4                                       Comedy  \n"
     ]
    }
   ],
   "source": [
    "# Display the first few rows of the movies dataset\n",
    "print(\"Movies Data:\")\n",
    "print(movies.head())"
   ]
  },
  {
   "cell_type": "code",
   "execution_count": 35,
   "id": "06a429a3",
   "metadata": {},
   "outputs": [],
   "source": [
    "# Create binary columns for each genre\n",
    "genres_list = movies['genres'].str.split('|', expand=True)\n",
    "movies_with_genres = pd.concat([movies, genres_list], axis=1)\n"
   ]
  },
  {
   "cell_type": "code",
   "execution_count": 36,
   "id": "cb046b36",
   "metadata": {},
   "outputs": [
    {
     "name": "stdout",
     "output_type": "stream",
     "text": [
      "Movies Data with Binary Genre Columns:\n",
      "   movieId                               title  \\\n",
      "0        1                    Toy Story (1995)   \n",
      "1        2                      Jumanji (1995)   \n",
      "2        3             Grumpier Old Men (1995)   \n",
      "3        4            Waiting to Exhale (1995)   \n",
      "4        5  Father of the Bride Part II (1995)   \n",
      "\n",
      "                                        genres          0          1  \\\n",
      "0  Adventure|Animation|Children|Comedy|Fantasy  Adventure  Animation   \n",
      "1                   Adventure|Children|Fantasy  Adventure   Children   \n",
      "2                               Comedy|Romance     Comedy    Romance   \n",
      "3                         Comedy|Drama|Romance     Comedy      Drama   \n",
      "4                                       Comedy     Comedy       None   \n",
      "\n",
      "          2       3        4     5     6     7     8     9  \n",
      "0  Children  Comedy  Fantasy  None  None  None  None  None  \n",
      "1   Fantasy    None     None  None  None  None  None  None  \n",
      "2      None    None     None  None  None  None  None  None  \n",
      "3   Romance    None     None  None  None  None  None  None  \n",
      "4      None    None     None  None  None  None  None  None  \n"
     ]
    }
   ],
   "source": [
    "# Display the movies dataset with binary genre columns\n",
    "print(\"Movies Data with Binary Genre Columns:\")\n",
    "print(movies_with_genres.head())"
   ]
  },
  {
   "cell_type": "code",
   "execution_count": 37,
   "id": "c089a77d",
   "metadata": {},
   "outputs": [
    {
     "name": "stdout",
     "output_type": "stream",
     "text": [
      "Movies Data with Count of Genres:\n",
      "   movieId                               title  \\\n",
      "0        1                    Toy Story (1995)   \n",
      "1        2                      Jumanji (1995)   \n",
      "2        3             Grumpier Old Men (1995)   \n",
      "3        4            Waiting to Exhale (1995)   \n",
      "4        5  Father of the Bride Part II (1995)   \n",
      "\n",
      "                                        genres  num_genres  \n",
      "0  Adventure|Animation|Children|Comedy|Fantasy           5  \n",
      "1                   Adventure|Children|Fantasy           3  \n",
      "2                               Comedy|Romance           2  \n",
      "3                         Comedy|Drama|Romance           3  \n",
      "4                                       Comedy           1  \n"
     ]
    }
   ],
   "source": [
    "# Count the number of genres associated with each movie\n",
    "movies_with_genres['num_genres'] = genres_list.apply(lambda row: row.count(), axis=1)\n",
    "\n",
    "# Display the movies dataset with the count of genres\n",
    "print(\"Movies Data with Count of Genres:\")\n",
    "print(movies_with_genres[['movieId', 'title', 'genres', 'num_genres']].head())"
   ]
  },
  {
   "cell_type": "code",
   "execution_count": 39,
   "id": "54ca8cbc",
   "metadata": {},
   "outputs": [
    {
     "name": "stdout",
     "output_type": "stream",
     "text": [
      "Prevalence of Each Genre:\n",
      "Drama                 0.228000\n",
      "Comedy                0.150213\n",
      "Thriller              0.077057\n",
      "Romance               0.068731\n",
      "Action                0.065428\n",
      "Horror                0.053327\n",
      "Documentary           0.049908\n",
      "Crime                 0.047361\n",
      "(no genres listed)    0.045073\n",
      "Adventure             0.036908\n",
      "Sci-Fi                0.032010\n",
      "Children              0.026134\n",
      "Animation             0.026080\n",
      "Mystery               0.026045\n",
      "Fantasy               0.024317\n",
      "War                   0.016686\n",
      "Western               0.012457\n",
      "Musical               0.009385\n",
      "Film-Noir             0.003143\n",
      "IMAX                  0.001736\n",
      "Name: proportion, dtype: float64\n"
     ]
    }
   ],
   "source": [
    "# Calculate the prevalence of each genre in the entire dataset\n",
    "genre_prevalence = genres_list.apply(pd.Series).stack().value_counts(normalize=True)\n",
    "\n",
    "# Display the prevalence of each genre\n",
    "print(\"Prevalence of Each Genre:\")\n",
    "print(genre_prevalence)\n"
   ]
  },
  {
   "cell_type": "markdown",
   "id": "2498da6c",
   "metadata": {},
   "source": [
    "## User-Based Features:"
   ]
  },
  {
   "cell_type": "code",
   "execution_count": 54,
   "id": "4972c5a5",
   "metadata": {},
   "outputs": [],
   "source": [
    "# Load the train dataset\n",
    "train_path = \"C:/Users/hopol/Downloads/ea-movie-recommendation-predict-2023-2024/train.csv\"\n",
    "train = pd.read_csv(train_path)\n"
   ]
  },
  {
   "cell_type": "code",
   "execution_count": 55,
   "id": "7f241aaf",
   "metadata": {},
   "outputs": [
    {
     "name": "stdout",
     "output_type": "stream",
     "text": [
      "   userId  avg_rating_by_user  num_ratings_by_user  rating_stddev_by_user\n",
      "0       1            3.910714                   28               1.000496\n",
      "1       2            3.416667                   72               1.508194\n",
      "2       3            3.691235                  251               0.620712\n",
      "3       4            3.308989                   89               1.083202\n",
      "4       5            3.885714                   35               0.963188\n"
     ]
    }
   ],
   "source": [
    "# Display user-based features\n",
    "user_features = pd.merge(user_avg_ratings, user_rating_counts, on='userId')\n",
    "user_features = pd.merge(user_features, user_rating_stddev, on='userId')\n",
    "print(user_features.head())"
   ]
  },
  {
   "cell_type": "markdown",
   "id": "9149fb61",
   "metadata": {},
   "source": [
    "## Movie-Based Features:"
   ]
  },
  {
   "cell_type": "code",
   "execution_count": 57,
   "id": "d20aafad",
   "metadata": {},
   "outputs": [],
   "source": [
    "# Calculate average rating received by each movie\n",
    "movie_avg_ratings = train.groupby('movieId')['rating'].mean().reset_index()\n",
    "movie_avg_ratings.columns = ['movieId', 'avg_rating_for_movie']\n"
   ]
  },
  {
   "cell_type": "code",
   "execution_count": 58,
   "id": "b1e9ffdb",
   "metadata": {},
   "outputs": [],
   "source": [
    "# Count the number of ratings each movie has received\n",
    "movie_rating_counts = train.groupby('movieId')['rating'].count().reset_index()\n",
    "movie_rating_counts.columns = ['movieId', 'num_ratings_for_movie']"
   ]
  },
  {
   "cell_type": "code",
   "execution_count": 59,
   "id": "1307f454",
   "metadata": {},
   "outputs": [],
   "source": [
    "# Calculate the standard deviation of ratings received by each movie\n",
    "movie_rating_stddev = train.groupby('movieId')['rating'].std().reset_index()\n",
    "movie_rating_stddev.columns = ['movieId', 'rating_stddev_for_movie']"
   ]
  },
  {
   "cell_type": "code",
   "execution_count": 60,
   "id": "d2e0cffa",
   "metadata": {},
   "outputs": [
    {
     "name": "stdout",
     "output_type": "stream",
     "text": [
      "   movieId  avg_rating_for_movie  num_ratings_for_movie  \\\n",
      "0        1              3.889971                  23062   \n",
      "1        2              3.263414                   9654   \n",
      "2        3              3.132325                   4727   \n",
      "3        4              2.878099                    968   \n",
      "4        5              3.059165                   4648   \n",
      "\n",
      "   rating_stddev_for_movie  \n",
      "0                 0.924249  \n",
      "1                 0.966744  \n",
      "2                 1.016368  \n",
      "3                 1.073617  \n",
      "4                 0.995982  \n"
     ]
    }
   ],
   "source": [
    "# Display movie-based features\n",
    "movie_features = pd.merge(movie_avg_ratings, movie_rating_counts, on='movieId')\n",
    "movie_features = pd.merge(movie_features, movie_rating_stddev, on='movieId')\n",
    "print(movie_features.head())"
   ]
  },
  {
   "cell_type": "markdown",
   "id": "adb3d8ae",
   "metadata": {},
   "source": [
    "## Temporal Features:\n"
   ]
  },
  {
   "cell_type": "code",
   "execution_count": 61,
   "id": "bf64e03b",
   "metadata": {},
   "outputs": [
    {
     "name": "stdout",
     "output_type": "stream",
     "text": [
      "   year  month  avg_rating_by_month\n",
      "0  1995      1             5.000000\n",
      "1  1996      1             4.111111\n",
      "2  1996      2             3.660256\n",
      "3  1996      3             3.932214\n",
      "4  1996      4             3.794541\n"
     ]
    }
   ],
   "source": [
    "# Convert timestamps to datetime format\n",
    "train['timestamp'] = pd.to_datetime(train['timestamp'], unit='s')\n",
    "\n",
    "# Extract additional temporal features\n",
    "train['year'] = train['timestamp'].dt.year\n",
    "train['month'] = train['timestamp'].dt.month\n",
    "\n",
    "# Calculate the average rating for each month\n",
    "monthly_avg_ratings = train.groupby(['year', 'month'])['rating'].mean().reset_index()\n",
    "monthly_avg_ratings.columns = ['year', 'month', 'avg_rating_by_month']\n",
    "\n",
    "# Display temporal features\n",
    "print(monthly_avg_ratings.head())\n"
   ]
  },
  {
   "cell_type": "markdown",
   "id": "6d6ebff8",
   "metadata": {},
   "source": [
    "## Tag-Based Features:"
   ]
  },
  {
   "cell_type": "code",
   "execution_count": 67,
   "id": "6ad3e77f",
   "metadata": {},
   "outputs": [
    {
     "name": "stdout",
     "output_type": "stream",
     "text": [
      "         action  atmospheric  based on a book  comedy  dystopia  funny  \\\n",
      "movieId                                                                  \n",
      "1           1.0          0.0              0.0     1.0       0.0    1.0   \n",
      "2           0.0          0.0              1.0     0.0       0.0    0.0   \n",
      "3           0.0          0.0              0.0     0.0       0.0    1.0   \n",
      "6           1.0          1.0              0.0     0.0       0.0    0.0   \n",
      "7           0.0          0.0              0.0     1.0       0.0    0.0   \n",
      "\n",
      "         sci-fi  surreal  twist ending  visually appealing  \n",
      "movieId                                                     \n",
      "1           1.0      0.0           0.0                 0.0  \n",
      "2           0.0      0.0           0.0                 0.0  \n",
      "3           0.0      0.0           0.0                 0.0  \n",
      "6           0.0      0.0           0.0                 0.0  \n",
      "7           0.0      0.0           0.0                 0.0  \n",
      "   movieId  num_tags\n",
      "0        1        52\n",
      "1        2         2\n",
      "2        3         1\n",
      "3        6        30\n",
      "4        7         1\n"
     ]
    }
   ],
   "source": [
    "import pandas as pd\n",
    "from sklearn.preprocessing import MultiLabelBinarizer\n",
    "\n",
    "# Assuming you have already loaded the 'tags.csv' dataset\n",
    "tags_path = \"C:/Users/hopol/Downloads/ea-movie-recommendation-predict-2023-2024/tags.csv\"\n",
    "tags = pd.read_csv(tags_path)\n",
    "\n",
    "# Fill missing values in the 'tags' column with an empty list\n",
    "tags['tag'] = tags['tag'].fillna('[]')\n",
    "\n",
    "# Count the prevalence of each tag in the entire dataset\n",
    "tag_prevalence = tags['tag'].value_counts(normalize=True)\n",
    "\n",
    "# Define the value of N (adjust based on your available memory)\n",
    "N = 10  # For example, you can choose to consider the top 10 tags\n",
    "\n",
    "# Select the top N most prevalent tags\n",
    "top_tags = tag_prevalence.head(N).index\n",
    "\n",
    "# Filter the tags dataframe to include only the top tags\n",
    "tags_filtered = tags[tags['tag'].isin(top_tags)]\n",
    "\n",
    "# Convert tags to a list of lists\n",
    "tag_lists = tags_filtered.groupby('movieId')['tag'].apply(list).reset_index(name='tags')\n",
    "\n",
    "# Use MultiLabelBinarizer for one-hot encoding\n",
    "mlb = MultiLabelBinarizer()\n",
    "tag_binary_array = mlb.fit_transform(tag_lists['tags'])\n",
    "tag_binary_columns = pd.DataFrame(tag_binary_array, columns=mlb.classes_, index=tag_lists['movieId']).astype('Sparse')\n",
    "\n",
    "# Count the number of tags associated with each movie\n",
    "tag_counts = tags_filtered.groupby('movieId')['tag'].count().reset_index()\n",
    "tag_counts.columns = ['movieId', 'num_tags']\n",
    "\n",
    "# Display tag-based features\n",
    "print(tag_binary_columns.head())\n",
    "print(tag_counts.head())\n",
    "\n",
    "\n"
   ]
  },
  {
   "cell_type": "markdown",
   "id": "e6435912",
   "metadata": {},
   "source": [
    "## Tag Genome-Based Features:"
   ]
  },
  {
   "cell_type": "code",
   "execution_count": 68,
   "id": "c84116d7",
   "metadata": {},
   "outputs": [
    {
     "name": "stdout",
     "output_type": "stream",
     "text": [
      "tagId       1        2        3        4        5        6        7     \\\n",
      "movieId                                                                  \n",
      "1        0.02875  0.02375  0.06250  0.07575  0.14075  0.14675  0.06350   \n",
      "2        0.04125  0.04050  0.06275  0.08275  0.09100  0.06125  0.06925   \n",
      "3        0.04675  0.05550  0.02925  0.08700  0.04750  0.04775  0.04600   \n",
      "4        0.03425  0.03800  0.04050  0.03100  0.06500  0.03575  0.02900   \n",
      "5        0.04300  0.05325  0.03800  0.04100  0.05400  0.06725  0.02775   \n",
      "\n",
      "tagId       8       9        10    ...     1119     1120     1121     1122  \\\n",
      "movieId                            ...                                       \n",
      "1        0.20375  0.2020  0.03075  ...  0.04050  0.01425  0.03050  0.03500   \n",
      "2        0.09600  0.0765  0.05250  ...  0.05250  0.01575  0.01250  0.02000   \n",
      "3        0.14275  0.0285  0.03875  ...  0.06275  0.01950  0.02225  0.02300   \n",
      "4        0.08650  0.0320  0.03150  ...  0.05325  0.02800  0.01675  0.03875   \n",
      "5        0.07650  0.0215  0.02975  ...  0.05350  0.02050  0.01425  0.02550   \n",
      "\n",
      "tagId       1123     1124     1125     1126     1127     1128  \n",
      "movieId                                                        \n",
      "1        0.14125  0.05775  0.03900  0.02975  0.08475  0.02200  \n",
      "2        0.12225  0.03275  0.02100  0.01100  0.10525  0.01975  \n",
      "3        0.12200  0.03475  0.01700  0.01800  0.09100  0.01775  \n",
      "4        0.18200  0.07050  0.01625  0.01425  0.08850  0.01500  \n",
      "5        0.19225  0.02675  0.01625  0.01300  0.08700  0.01600  \n",
      "\n",
      "[5 rows x 1128 columns]\n",
      "   movieId  avg_tag_relevance\n",
      "0        1           0.163382\n",
      "1        2           0.122205\n",
      "2        3           0.092110\n",
      "3        4           0.087318\n",
      "4        5           0.093966\n"
     ]
    }
   ],
   "source": [
    "# Assuming you have already loaded the 'genome_scores.csv' and 'genome_tags.csv' datasets\n",
    "genome_scores_path = \"C:/Users/hopol/Downloads/ea-movie-recommendation-predict-2023-2024/genome_scores.csv\"\n",
    "genome_tags_path = \"C:/Users/hopol/Downloads/ea-movie-recommendation-predict-2023-2024/genome_tags.csv\"\n",
    "\n",
    "genome_scores = pd.read_csv(genome_scores_path)\n",
    "genome_tags = pd.read_csv(genome_tags_path)\n",
    "\n",
    "# Utilize the tag genome scores to create additional features\n",
    "genome_scores_pivoted = genome_scores.pivot(index='movieId', columns='tagId', values='relevance').fillna(0)\n",
    "\n",
    "# Calculate the average relevance score for each movie's associated tags\n",
    "avg_relevance_per_movie = genome_scores.groupby('movieId')['relevance'].mean().reset_index()\n",
    "avg_relevance_per_movie.columns = ['movieId', 'avg_tag_relevance']\n",
    "\n",
    "# Display tag genome-based features\n",
    "print(genome_scores_pivoted.head())\n",
    "print(avg_relevance_per_movie.head())\n"
   ]
  },
  {
   "cell_type": "markdown",
   "id": "19a1a30a",
   "metadata": {},
   "source": [
    "## IMDb-Based Features:"
   ]
  },
  {
   "cell_type": "code",
   "execution_count": 1,
   "id": "857bf2ce",
   "metadata": {},
   "outputs": [
    {
     "name": "stdout",
     "output_type": "stream",
     "text": [
      "Index(['movieId', 'title_cast', 'director', 'runtime', 'budget',\n",
      "       'plot_keywords'],\n",
      "      dtype='object')\n"
     ]
    },
    {
     "ename": "KeyError",
     "evalue": "\"['imdbRating'] not in index\"",
     "output_type": "error",
     "traceback": [
      "\u001b[1;31m---------------------------------------------------------------------------\u001b[0m",
      "\u001b[1;31mKeyError\u001b[0m                                  Traceback (most recent call last)",
      "Cell \u001b[1;32mIn[1], line 17\u001b[0m\n\u001b[0;32m     12\u001b[0m movies \u001b[38;5;241m=\u001b[39m pd\u001b[38;5;241m.\u001b[39mread_csv(movies_path)\n\u001b[0;32m     14\u001b[0m \u001b[38;5;66;03m# Include IMDb ratings as a feature for each movie\u001b[39;00m\n\u001b[0;32m     15\u001b[0m \u001b[38;5;66;03m# Replace 'actual_column_name' with the correct column name containing IMDb rating information\u001b[39;00m\n\u001b[0;32m     16\u001b[0m \u001b[38;5;66;03m# You can use the column name printed from 'imdb_data.columns'\u001b[39;00m\n\u001b[1;32m---> 17\u001b[0m movies_with_imdb \u001b[38;5;241m=\u001b[39m pd\u001b[38;5;241m.\u001b[39mmerge(movies, imdb_data[[\u001b[38;5;124m'\u001b[39m\u001b[38;5;124mmovieId\u001b[39m\u001b[38;5;124m'\u001b[39m, \u001b[38;5;124m'\u001b[39m\u001b[38;5;124mimdbRating\u001b[39m\u001b[38;5;124m'\u001b[39m]], on\u001b[38;5;241m=\u001b[39m\u001b[38;5;124m'\u001b[39m\u001b[38;5;124mmovieId\u001b[39m\u001b[38;5;124m'\u001b[39m, how\u001b[38;5;241m=\u001b[39m\u001b[38;5;124m'\u001b[39m\u001b[38;5;124mleft\u001b[39m\u001b[38;5;124m'\u001b[39m)\n\u001b[0;32m     19\u001b[0m \u001b[38;5;66;03m# Display IMDb-based features\u001b[39;00m\n\u001b[0;32m     20\u001b[0m \u001b[38;5;28mprint\u001b[39m(movies_with_imdb[[\u001b[38;5;124m'\u001b[39m\u001b[38;5;124mmovieId\u001b[39m\u001b[38;5;124m'\u001b[39m, \u001b[38;5;124m'\u001b[39m\u001b[38;5;124mtitle\u001b[39m\u001b[38;5;124m'\u001b[39m, \u001b[38;5;124m'\u001b[39m\u001b[38;5;124mgenres\u001b[39m\u001b[38;5;124m'\u001b[39m, \u001b[38;5;124m'\u001b[39m\u001b[38;5;124mimdbRating\u001b[39m\u001b[38;5;124m'\u001b[39m]]\u001b[38;5;241m.\u001b[39mhead())\n",
      "File \u001b[1;32m~\\anaconda3\\Lib\\site-packages\\pandas\\core\\frame.py:3902\u001b[0m, in \u001b[0;36mDataFrame.__getitem__\u001b[1;34m(self, key)\u001b[0m\n\u001b[0;32m   3900\u001b[0m     \u001b[38;5;28;01mif\u001b[39;00m is_iterator(key):\n\u001b[0;32m   3901\u001b[0m         key \u001b[38;5;241m=\u001b[39m \u001b[38;5;28mlist\u001b[39m(key)\n\u001b[1;32m-> 3902\u001b[0m     indexer \u001b[38;5;241m=\u001b[39m \u001b[38;5;28mself\u001b[39m\u001b[38;5;241m.\u001b[39mcolumns\u001b[38;5;241m.\u001b[39m_get_indexer_strict(key, \u001b[38;5;124m\"\u001b[39m\u001b[38;5;124mcolumns\u001b[39m\u001b[38;5;124m\"\u001b[39m)[\u001b[38;5;241m1\u001b[39m]\n\u001b[0;32m   3904\u001b[0m \u001b[38;5;66;03m# take() does not accept boolean indexers\u001b[39;00m\n\u001b[0;32m   3905\u001b[0m \u001b[38;5;28;01mif\u001b[39;00m \u001b[38;5;28mgetattr\u001b[39m(indexer, \u001b[38;5;124m\"\u001b[39m\u001b[38;5;124mdtype\u001b[39m\u001b[38;5;124m\"\u001b[39m, \u001b[38;5;28;01mNone\u001b[39;00m) \u001b[38;5;241m==\u001b[39m \u001b[38;5;28mbool\u001b[39m:\n",
      "File \u001b[1;32m~\\anaconda3\\Lib\\site-packages\\pandas\\core\\indexes\\base.py:6114\u001b[0m, in \u001b[0;36mIndex._get_indexer_strict\u001b[1;34m(self, key, axis_name)\u001b[0m\n\u001b[0;32m   6111\u001b[0m \u001b[38;5;28;01melse\u001b[39;00m:\n\u001b[0;32m   6112\u001b[0m     keyarr, indexer, new_indexer \u001b[38;5;241m=\u001b[39m \u001b[38;5;28mself\u001b[39m\u001b[38;5;241m.\u001b[39m_reindex_non_unique(keyarr)\n\u001b[1;32m-> 6114\u001b[0m \u001b[38;5;28mself\u001b[39m\u001b[38;5;241m.\u001b[39m_raise_if_missing(keyarr, indexer, axis_name)\n\u001b[0;32m   6116\u001b[0m keyarr \u001b[38;5;241m=\u001b[39m \u001b[38;5;28mself\u001b[39m\u001b[38;5;241m.\u001b[39mtake(indexer)\n\u001b[0;32m   6117\u001b[0m \u001b[38;5;28;01mif\u001b[39;00m \u001b[38;5;28misinstance\u001b[39m(key, Index):\n\u001b[0;32m   6118\u001b[0m     \u001b[38;5;66;03m# GH 42790 - Preserve name from an Index\u001b[39;00m\n",
      "File \u001b[1;32m~\\anaconda3\\Lib\\site-packages\\pandas\\core\\indexes\\base.py:6178\u001b[0m, in \u001b[0;36mIndex._raise_if_missing\u001b[1;34m(self, key, indexer, axis_name)\u001b[0m\n\u001b[0;32m   6175\u001b[0m     \u001b[38;5;28;01mraise\u001b[39;00m \u001b[38;5;167;01mKeyError\u001b[39;00m(\u001b[38;5;124mf\u001b[39m\u001b[38;5;124m\"\u001b[39m\u001b[38;5;124mNone of [\u001b[39m\u001b[38;5;132;01m{\u001b[39;00mkey\u001b[38;5;132;01m}\u001b[39;00m\u001b[38;5;124m] are in the [\u001b[39m\u001b[38;5;132;01m{\u001b[39;00maxis_name\u001b[38;5;132;01m}\u001b[39;00m\u001b[38;5;124m]\u001b[39m\u001b[38;5;124m\"\u001b[39m)\n\u001b[0;32m   6177\u001b[0m not_found \u001b[38;5;241m=\u001b[39m \u001b[38;5;28mlist\u001b[39m(ensure_index(key)[missing_mask\u001b[38;5;241m.\u001b[39mnonzero()[\u001b[38;5;241m0\u001b[39m]]\u001b[38;5;241m.\u001b[39munique())\n\u001b[1;32m-> 6178\u001b[0m \u001b[38;5;28;01mraise\u001b[39;00m \u001b[38;5;167;01mKeyError\u001b[39;00m(\u001b[38;5;124mf\u001b[39m\u001b[38;5;124m\"\u001b[39m\u001b[38;5;132;01m{\u001b[39;00mnot_found\u001b[38;5;132;01m}\u001b[39;00m\u001b[38;5;124m not in index\u001b[39m\u001b[38;5;124m\"\u001b[39m)\n",
      "\u001b[1;31mKeyError\u001b[0m: \"['imdbRating'] not in index\""
     ]
    }
   ],
   "source": [
    "import pandas as pd\n",
    "\n",
    "# Assuming you have already loaded the 'imdb_data.csv' dataset\n",
    "imdb_data_path = \"C:/Users/hopol/Downloads/ea-movie-recommendation-predict-2023-2024/imdb_data.csv\"\n",
    "imdb_data = pd.read_csv(imdb_data_path)\n",
    "\n",
    "# Check the columns of the 'imdb_data' DataFrame\n",
    "print(imdb_data.columns)\n",
    "\n",
    "# Assuming you have already loaded the 'movies.csv' dataset\n",
    "movies_path = \"C:/Users/hopol/Downloads/ea-movie-recommendation-predict-2023-2024/movies.csv\"\n",
    "movies = pd.read_csv(movies_path)\n",
    "\n",
    "# Include IMDb ratings as a feature for each movie\n",
    "# Replace 'actual_column_name' with the correct column name containing IMDb rating information\n",
    "# You can use the column name printed from 'imdb_data.columns'\n",
    "movies_with_imdb = pd.merge(movies, imdb_data[['movieId', 'imdbRating']], on='movieId', how='left')\n",
    "\n",
    "# Display IMDb-based features\n",
    "print(movies_with_imdb[['movieId', 'title', 'genres', 'imdbRating']].head())\n"
   ]
  },
  {
   "cell_type": "markdown",
   "id": "922f8f54",
   "metadata": {},
   "source": [
    "## Link-Based Features:"
   ]
  },
  {
   "cell_type": "code",
   "execution_count": 74,
   "id": "1a7756c6",
   "metadata": {},
   "outputs": [
    {
     "name": "stdout",
     "output_type": "stream",
     "text": [
      "   movieId  imdbId   tmdbId\n",
      "0        1  114709    862.0\n",
      "1        2  113497   8844.0\n",
      "2        3  113228  15602.0\n",
      "3        4  114885  31357.0\n",
      "4        5  113041  11862.0\n"
     ]
    }
   ],
   "source": [
    "# Assuming you have already loaded the 'links.csv' dataset\n",
    "links_path = \"C:/Users/hopol/Downloads/ea-movie-recommendation-predict-2023-2024/links.csv\"\n",
    "links = pd.read_csv(links_path)\n",
    "\n",
    "# Utilize IMDb and TMDB IDs to fetch external data and enrich your dataset\n",
    "# Example: Fetch additional data using APIs (not provided in this code snippet)\n",
    "\n",
    "# Display link-based features\n",
    "print(links.head())\n"
   ]
  },
  {
   "cell_type": "markdown",
   "id": "5c663086",
   "metadata": {},
   "source": [
    "## User-Item Interaction Features:"
   ]
  },
  {
   "cell_type": "code",
   "execution_count": 75,
   "id": "c7f557af",
   "metadata": {},
   "outputs": [
    {
     "name": "stdout",
     "output_type": "stream",
     "text": [
      "   userId  movieId  user_movie_interactions\n",
      "0       1      296                        1\n",
      "1       1      665                        1\n",
      "2       1      899                        1\n",
      "3       1     1175                        1\n",
      "4       1     1217                        1\n"
     ]
    }
   ],
   "source": [
    "# Assuming you have already loaded the 'train.csv' dataset\n",
    "# Calculate the number of times a user has rated a movie\n",
    "user_movie_interaction = train.groupby(['userId', 'movieId']).size().reset_index(name='user_movie_interactions')\n",
    "\n",
    "# Display user-item interaction features\n",
    "print(user_movie_interaction.head())\n"
   ]
  },
  {
   "cell_type": "markdown",
   "id": "cbf763e2",
   "metadata": {},
   "source": [
    "## User-User and Item-Item Similarity Features:"
   ]
  },
  {
   "cell_type": "code",
   "execution_count": 76,
   "id": "5bc1cf18",
   "metadata": {},
   "outputs": [],
   "source": [
    "# You may want to use collaborative filtering algorithms to calculate user-user and item-item similarity\n",
    "# Example: Use techniques like cosine similarity or matrix factorization (not provided in this code snippet)\n"
   ]
  },
  {
   "cell_type": "markdown",
   "id": "9c8c15f7",
   "metadata": {},
   "source": [
    "## Length of Movie Titles:"
   ]
  },
  {
   "cell_type": "code",
   "execution_count": 77,
   "id": "ffc5419d",
   "metadata": {},
   "outputs": [
    {
     "name": "stdout",
     "output_type": "stream",
     "text": [
      "   movieId                               title  title_length\n",
      "0        1                    Toy Story (1995)            16\n",
      "1        2                      Jumanji (1995)            14\n",
      "2        3             Grumpier Old Men (1995)            23\n",
      "3        4            Waiting to Exhale (1995)            24\n",
      "4        5  Father of the Bride Part II (1995)            34\n"
     ]
    }
   ],
   "source": [
    "# Calculate the length of movie titles as a feature\n",
    "movies['title_length'] = movies['title'].apply(len)\n",
    "\n",
    "# Display movies with title lengths\n",
    "print(movies[['movieId', 'title', 'title_length']].head())\n"
   ]
  },
  {
   "cell_type": "markdown",
   "id": "650a7d34",
   "metadata": {},
   "source": [
    "## Average Rating in Recent Time Period:"
   ]
  },
  {
   "cell_type": "code",
   "execution_count": 78,
   "id": "d27f6d1d",
   "metadata": {},
   "outputs": [
    {
     "name": "stdout",
     "output_type": "stream",
     "text": [
      "Average Rating in Recent Time Period: nan\n"
     ]
    }
   ],
   "source": [
    "# Assuming you have already loaded the 'train.csv' dataset\n",
    "# Convert timestamps to datetime format\n",
    "train['timestamp'] = pd.to_datetime(train['timestamp'], unit='s')\n",
    "\n",
    "# Filter data for a recent time period (e.g., last 6 months)\n",
    "recent_data = train[train['timestamp'] > pd.to_datetime('2022-07-01')]\n",
    "\n",
    "# Calculate the average rating in the recent time period\n",
    "avg_rating_recent = recent_data['rating'].mean()\n",
    "\n",
    "# Display the average rating in the recent time period\n",
    "print(\"Average Rating in Recent Time Period:\", avg_rating_recent)\n"
   ]
  },
  {
   "cell_type": "code",
   "execution_count": null,
   "id": "ca0e659f",
   "metadata": {},
   "outputs": [],
   "source": []
  },
  {
   "cell_type": "code",
   "execution_count": null,
   "id": "3978d8df",
   "metadata": {},
   "outputs": [],
   "source": []
  }
 ],
 "metadata": {
  "kernelspec": {
   "display_name": "Python 3 (ipykernel)",
   "language": "python",
   "name": "python3"
  },
  "language_info": {
   "codemirror_mode": {
    "name": "ipython",
    "version": 3
   },
   "file_extension": ".py",
   "mimetype": "text/x-python",
   "name": "python",
   "nbconvert_exporter": "python",
   "pygments_lexer": "ipython3",
   "version": "3.11.4"
  }
 },
 "nbformat": 4,
 "nbformat_minor": 5
}
